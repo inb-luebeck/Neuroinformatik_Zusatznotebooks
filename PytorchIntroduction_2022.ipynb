{
 "cells": [
  {
   "cell_type": "code",
   "execution_count": 1,
   "id": "clean-digest",
   "metadata": {},
   "outputs": [],
   "source": [
    "import numpy as np\n",
    "import torch\n",
    "import torch.nn as nn\n",
    "import torch.nn.functional as F\n",
    "import time\n",
    "from torchsummaryX import summary\n",
    "import matplotlib.pyplot as plt\n",
    "%matplotlib inline"
   ]
  },
  {
   "cell_type": "markdown",
   "id": "distinguished-daniel",
   "metadata": {},
   "source": [
    "# Part I: Python, Numpy and Pytorch"
   ]
  },
  {
   "cell_type": "code",
   "execution_count": 2,
   "id": "resistant-perfume",
   "metadata": {},
   "outputs": [],
   "source": [
    "def sum_using_for_loop(a, b):\n",
    "    a_plus_b = np.zeros(a.shape)\n",
    "    for i in range(a.shape[0]):\n",
    "        for j in range(a.shape[1]):\n",
    "            a_plus_b[i,j] = a[i,j] + b[i,j]\n",
    "    return a_plus_b\n",
    "            \n",
    "def sum_using_matrix_ops(a, b):\n",
    "    return a + b\n",
    "\n",
    "def measure_tensor_operation_time(a, b, op, n_iterations=20):\n",
    "    startTime = time.time()\n",
    "    for _ in range(n_iterations):\n",
    "        op(a,b)\n",
    "\n",
    "    executionTime = (time.time() - startTime)\n",
    "    print(f\"Execution time in total: {executionTime}s\")\n",
    "    print(f\"Execution time per operation: {executionTime/n_iterations}s\")"
   ]
  },
  {
   "cell_type": "code",
   "execution_count": 3,
   "id": "duplicate-international",
   "metadata": {},
   "outputs": [
    {
     "name": "stdout",
     "output_type": "stream",
     "text": [
      "[[2. 2. 2. ... 2. 2. 2.]\n",
      " [2. 2. 2. ... 2. 2. 2.]\n",
      " [2. 2. 2. ... 2. 2. 2.]\n",
      " ...\n",
      " [2. 2. 2. ... 2. 2. 2.]\n",
      " [2. 2. 2. ... 2. 2. 2.]\n",
      " [2. 2. 2. ... 2. 2. 2.]]\n",
      "Execution time in total: 8.89082145690918s\n",
      "Execution time per operation: 0.44454107284545896s\n",
      "Execution time in total: 0.06599831581115723s\n",
      "Execution time per operation: 0.0032999157905578614s\n",
      "tensor([[1., 1., 1.,  ..., 1., 1., 1.],\n",
      "        [1., 1., 1.,  ..., 1., 1., 1.],\n",
      "        [1., 1., 1.,  ..., 1., 1., 1.],\n",
      "        ...,\n",
      "        [1., 1., 1.,  ..., 1., 1., 1.],\n",
      "        [1., 1., 1.,  ..., 1., 1., 1.],\n",
      "        [1., 1., 1.,  ..., 1., 1., 1.]])\n"
     ]
    }
   ],
   "source": [
    "size = 1000\n",
    "A = np.ones((size,size))\n",
    "\n",
    "print(sum_using_for_loop(A, A))\n",
    "measure_tensor_operation_time(A, A, sum_using_for_loop)\n",
    "\n",
    "#np.__config__.show()\n",
    "measure_tensor_operation_time(A, A, sum_using_matrix_ops)\n",
    "\n",
    "# move tensor to GPU\n",
    "A = torch.ones((size,size), device=\"cpu\")\n",
    "print(A)\n",
    "#A = A.to(\"cuda\")\n",
    "#print(A)\n",
    "#measure_tensor_operation_time(A, A, sum_using_matrix_ops)"
   ]
  },
  {
   "cell_type": "markdown",
   "id": "amino-compromise",
   "metadata": {},
   "source": [
    "# Part II: Derivatives"
   ]
  },
  {
   "cell_type": "code",
   "execution_count": 4,
   "id": "powerful-adrian",
   "metadata": {},
   "outputs": [
    {
     "name": "stdout",
     "output_type": "stream",
     "text": [
      "tensor([7.], grad_fn=<AddBackward0>)\n"
     ]
    }
   ],
   "source": [
    "x = torch.tensor([1.], requires_grad=True)\n",
    "m = torch.tensor([2.])\n",
    "n = 5.\n",
    "y = x * m + n\n",
    "print(y)"
   ]
  },
  {
   "cell_type": "code",
   "execution_count": 5,
   "id": "fundamental-sodium",
   "metadata": {},
   "outputs": [
    {
     "name": "stdout",
     "output_type": "stream",
     "text": [
      "Gradient tensor([2.])\n"
     ]
    }
   ],
   "source": [
    "y.backward()\n",
    "print('Gradient', x.grad)"
   ]
  },
  {
   "cell_type": "code",
   "execution_count": 6,
   "id": "selective-xerox",
   "metadata": {},
   "outputs": [
    {
     "name": "stdout",
     "output_type": "stream",
     "text": [
      "tensor([3.])\n"
     ]
    }
   ],
   "source": [
    "lr = 1.\n",
    "with torch.no_grad():\n",
    "    x = x - lr * x.grad\n",
    "    print(x * m + n)"
   ]
  },
  {
   "cell_type": "markdown",
   "id": "lonely-villa",
   "metadata": {},
   "source": [
    "# Part III: Convolutional Neural Networks"
   ]
  },
  {
   "cell_type": "code",
   "execution_count": 7,
   "id": "molecular-event",
   "metadata": {},
   "outputs": [],
   "source": [
    "class Network(nn.Module):\n",
    "    \n",
    "    def __init__(self):\n",
    "        super().__init__()\n",
    "        self.conv1 = nn.Conv2d(in_channels=3, out_channels=32, kernel_size=3, padding=1)\n",
    "        self.fc = nn.Linear(32, 2)\n",
    "        \n",
    "\n",
    "    def forward(self, x):\n",
    "        print(x.shape)\n",
    "        x = F.relu(self.conv1(x))\n",
    "        print(x.shape)\n",
    "        x = F.adaptive_avg_pool2d(x, (1, 1))\n",
    "        print(x.shape)\n",
    "        x = x.view(x.size(0), -1)\n",
    "        print(x.shape)\n",
    "        x = self.fc(x)\n",
    "        print(x.shape)\n",
    "        return x"
   ]
  },
  {
   "cell_type": "code",
   "execution_count": 8,
   "id": "thirty-mineral",
   "metadata": {},
   "outputs": [
    {
     "name": "stdout",
     "output_type": "stream",
     "text": [
      "input\n",
      "tensor([[[[ 0.5390,  0.9738, -0.4775,  0.2298, -2.0136],\n",
      "          [ 0.1412, -0.6430, -0.8109,  1.1576, -0.7346],\n",
      "          [ 0.8945,  0.8109,  0.6780,  0.4932, -0.8237],\n",
      "          [ 0.1963, -0.2851, -1.1406, -1.1679, -0.8623],\n",
      "          [ 1.2659, -1.5765, -0.8759, -0.6080, -0.3403]],\n",
      "\n",
      "         [[-0.3792, -0.8362, -1.1120,  0.1479,  0.0167],\n",
      "          [ 0.4765, -1.0108, -0.3019, -0.0583, -1.3115],\n",
      "          [-0.9047, -1.2031, -0.2948,  0.9214,  0.0124],\n",
      "          [-0.5272, -0.5012,  0.0792,  0.1008, -0.7830],\n",
      "          [ 0.2770, -0.3397, -0.7560, -1.4597,  0.5532]],\n",
      "\n",
      "         [[-1.1136, -0.4794,  1.1955, -0.4897,  0.2314],\n",
      "          [ 1.6507, -1.7798,  1.5609,  2.4395, -0.8734],\n",
      "          [ 0.7237,  0.5917,  0.3533,  0.8847,  0.2924],\n",
      "          [ 0.3803, -0.7969,  0.1904, -0.2559, -2.0526],\n",
      "          [ 0.3481, -0.8925, -0.3605,  0.2291, -1.3007]]]])\n",
      "output\n",
      "torch.Size([1, 3, 5, 5])\n",
      "torch.Size([1, 32, 5, 5])\n",
      "torch.Size([1, 32, 1, 1])\n",
      "torch.Size([1, 32])\n",
      "torch.Size([1, 2])\n",
      "tensor([[0.1087, 0.0455]], grad_fn=<AddmmBackward0>)\n",
      "summary\n",
      "torch.Size([2, 3, 64, 64])\n",
      "torch.Size([2, 32, 64, 64])\n",
      "torch.Size([2, 32, 1, 1])\n",
      "torch.Size([2, 32])\n",
      "torch.Size([2, 2])\n",
      "==========================================================\n",
      "          Kernel Shape     Output Shape  Params  Mult-Adds\n",
      "Layer                                                     \n",
      "0_conv1  [3, 32, 3, 3]  [2, 32, 64, 64]     896    3538944\n",
      "1_fc           [32, 2]           [2, 2]      66         64\n",
      "----------------------------------------------------------\n",
      "                       Totals\n",
      "Total params              962\n",
      "Trainable params          962\n",
      "Non-trainable params        0\n",
      "Mult-Adds             3539008\n",
      "==========================================================\n"
     ]
    },
    {
     "name": "stderr",
     "output_type": "stream",
     "text": [
      "C:\\Users\\chris\\miniconda3\\envs\\dl\\lib\\site-packages\\torchsummaryX\\torchsummaryX.py:101: FutureWarning: Dropping of nuisance columns in DataFrame reductions (with 'numeric_only=None') is deprecated; in a future version this will raise TypeError.  Select only valid columns before calling the reduction.\n",
      "  df_sum = df.sum()\n"
     ]
    },
    {
     "data": {
      "text/html": [
       "<div>\n",
       "<style scoped>\n",
       "    .dataframe tbody tr th:only-of-type {\n",
       "        vertical-align: middle;\n",
       "    }\n",
       "\n",
       "    .dataframe tbody tr th {\n",
       "        vertical-align: top;\n",
       "    }\n",
       "\n",
       "    .dataframe thead th {\n",
       "        text-align: right;\n",
       "    }\n",
       "</style>\n",
       "<table border=\"1\" class=\"dataframe\">\n",
       "  <thead>\n",
       "    <tr style=\"text-align: right;\">\n",
       "      <th></th>\n",
       "      <th>Kernel Shape</th>\n",
       "      <th>Output Shape</th>\n",
       "      <th>Params</th>\n",
       "      <th>Mult-Adds</th>\n",
       "    </tr>\n",
       "    <tr>\n",
       "      <th>Layer</th>\n",
       "      <th></th>\n",
       "      <th></th>\n",
       "      <th></th>\n",
       "      <th></th>\n",
       "    </tr>\n",
       "  </thead>\n",
       "  <tbody>\n",
       "    <tr>\n",
       "      <th>0_conv1</th>\n",
       "      <td>[3, 32, 3, 3]</td>\n",
       "      <td>[2, 32, 64, 64]</td>\n",
       "      <td>896</td>\n",
       "      <td>3538944</td>\n",
       "    </tr>\n",
       "    <tr>\n",
       "      <th>1_fc</th>\n",
       "      <td>[32, 2]</td>\n",
       "      <td>[2, 2]</td>\n",
       "      <td>66</td>\n",
       "      <td>64</td>\n",
       "    </tr>\n",
       "  </tbody>\n",
       "</table>\n",
       "</div>"
      ],
      "text/plain": [
       "          Kernel Shape     Output Shape  Params  Mult-Adds\n",
       "Layer                                                     \n",
       "0_conv1  [3, 32, 3, 3]  [2, 32, 64, 64]     896    3538944\n",
       "1_fc           [32, 2]           [2, 2]      66         64"
      ]
     },
     "execution_count": 8,
     "metadata": {},
     "output_type": "execute_result"
    }
   ],
   "source": [
    "model = Network()\n",
    "device = torch.device(\"cpu\")\n",
    "model = model.to(device)\n",
    "x = torch.randn(((1, 3, 5, 5)))\n",
    "\n",
    "print(\"input\")\n",
    "print(x)\n",
    "\n",
    "print(\"output\")\n",
    "print(model(x))\n",
    "\n",
    "print(\"summary\")\n",
    "summary(model, torch.zeros((2, 3, 64, 64)))\n"
   ]
  },
  {
   "cell_type": "markdown",
   "id": "oriented-application",
   "metadata": {},
   "source": [
    "# Part IV: Training of an Autoencoder"
   ]
  },
  {
   "cell_type": "code",
   "execution_count": 9,
   "id": "confirmed-portuguese",
   "metadata": {},
   "outputs": [
    {
     "name": "stdout",
     "output_type": "stream",
     "text": [
      "==================================================\n",
      "      Kernel Shape Output Shape  Params  Mult-Adds\n",
      "Layer                                             \n",
      "0_enc       [2, 1]       [2, 1]       3          2\n",
      "1_dec       [1, 2]       [2, 2]       4          2\n",
      "--------------------------------------------------\n",
      "                      Totals\n",
      "Total params               7\n",
      "Trainable params           7\n",
      "Non-trainable params       0\n",
      "Mult-Adds                  4\n",
      "==================================================\n"
     ]
    },
    {
     "name": "stderr",
     "output_type": "stream",
     "text": [
      "C:\\Users\\chris\\miniconda3\\envs\\dl\\lib\\site-packages\\torchsummaryX\\torchsummaryX.py:101: FutureWarning: Dropping of nuisance columns in DataFrame reductions (with 'numeric_only=None') is deprecated; in a future version this will raise TypeError.  Select only valid columns before calling the reduction.\n",
      "  df_sum = df.sum()\n"
     ]
    },
    {
     "data": {
      "text/html": [
       "<div>\n",
       "<style scoped>\n",
       "    .dataframe tbody tr th:only-of-type {\n",
       "        vertical-align: middle;\n",
       "    }\n",
       "\n",
       "    .dataframe tbody tr th {\n",
       "        vertical-align: top;\n",
       "    }\n",
       "\n",
       "    .dataframe thead th {\n",
       "        text-align: right;\n",
       "    }\n",
       "</style>\n",
       "<table border=\"1\" class=\"dataframe\">\n",
       "  <thead>\n",
       "    <tr style=\"text-align: right;\">\n",
       "      <th></th>\n",
       "      <th>Kernel Shape</th>\n",
       "      <th>Output Shape</th>\n",
       "      <th>Params</th>\n",
       "      <th>Mult-Adds</th>\n",
       "    </tr>\n",
       "    <tr>\n",
       "      <th>Layer</th>\n",
       "      <th></th>\n",
       "      <th></th>\n",
       "      <th></th>\n",
       "      <th></th>\n",
       "    </tr>\n",
       "  </thead>\n",
       "  <tbody>\n",
       "    <tr>\n",
       "      <th>0_enc</th>\n",
       "      <td>[2, 1]</td>\n",
       "      <td>[2, 1]</td>\n",
       "      <td>3</td>\n",
       "      <td>2</td>\n",
       "    </tr>\n",
       "    <tr>\n",
       "      <th>1_dec</th>\n",
       "      <td>[1, 2]</td>\n",
       "      <td>[2, 2]</td>\n",
       "      <td>4</td>\n",
       "      <td>2</td>\n",
       "    </tr>\n",
       "  </tbody>\n",
       "</table>\n",
       "</div>"
      ],
      "text/plain": [
       "      Kernel Shape Output Shape  Params  Mult-Adds\n",
       "Layer                                             \n",
       "0_enc       [2, 1]       [2, 1]       3          2\n",
       "1_dec       [1, 2]       [2, 2]       4          2"
      ]
     },
     "execution_count": 9,
     "metadata": {},
     "output_type": "execute_result"
    }
   ],
   "source": [
    "# define the neural network\n",
    "class Autoencoder(nn.Module):\n",
    "    def __init__(self):\n",
    "        super(Autoencoder, self).__init__()\n",
    "        self.enc = nn.Linear(2, 1)\n",
    "        self.dec = nn.Linear(1, 2)\n",
    "\n",
    "    def forward(self, x):\n",
    "        out = self.enc(x)\n",
    "        out = self.dec(out)\n",
    "        return out\n",
    "\n",
    "# get model\n",
    "model = Autoencoder()\n",
    "\n",
    "# summarize model\n",
    "summary(model, torch.zeros((2, 2)))"
   ]
  },
  {
   "cell_type": "code",
   "execution_count": 10,
   "id": "painful-dictionary",
   "metadata": {},
   "outputs": [
    {
     "name": "stdout",
     "output_type": "stream",
     "text": [
      "torch.Size([100, 2])\n"
     ]
    },
    {
     "data": {
      "image/png": "[encoded data removed]",
      "text/plain": [
       "<Figure size 432x288 with 1 Axes>"
      ]
     },
     "metadata": {
      "needs_background": "light"
     },
     "output_type": "display_data"
    }
   ],
   "source": [
    "# create data\n",
    "n_data = 1000\n",
    "x = torch.linspace(0,5, 100)\n",
    "y = x + torch.normal(0, 0.5, size=(1,len(x))).flatten()\n",
    "data = torch.stack((x,y)).t()\n",
    "print(data.shape)\n",
    "model.eval()\n",
    "x_recon = model(data).detach()\n",
    "data_plot = data.cpu()\n",
    "\n",
    "# plot data\n",
    "plt.figure()\n",
    "plt.plot(data_plot[:,0], data_plot[:,1], \"b.\")\n",
    "plt.plot(x_recon[:,0], x_recon[:,1], \"r.\")\n",
    "plt.show()"
   ]
  },
  {
   "cell_type": "code",
   "execution_count": 11,
   "id": "stupid-transition",
   "metadata": {},
   "outputs": [
    {
     "name": "stdout",
     "output_type": "stream",
     "text": [
      "0 tensor(3.8910, grad_fn=<MeanBackward0>)\n",
      "500 tensor(0.0506, grad_fn=<MeanBackward0>)\n",
      "1000 tensor(0.0579, grad_fn=<MeanBackward0>)\n",
      "1500 tensor(0.0571, grad_fn=<MeanBackward0>)\n"
     ]
    },
    {
     "data": {
      "image/png": "[encoded data removed]",
      "text/plain": [
       "<Figure size 432x288 with 1 Axes>"
      ]
     },
     "metadata": {
      "needs_background": "light"
     },
     "output_type": "display_data"
    },
    {
     "data": {
      "image/png": "[encoded data removed]",
      "text/plain": [
       "<Figure size 432x288 with 1 Axes>"
      ]
     },
     "metadata": {
      "needs_background": "light"
     },
     "output_type": "display_data"
    }
   ],
   "source": [
    "# prepare for training\n",
    "lr = 1e-3\n",
    "n_epochs = 2000\n",
    "losslist = torch.zeros(n_epochs)\n",
    "n_batch = 64\n",
    "model.train()\n",
    "model = Autoencoder()#.to(\"cuda\")\n",
    "#data = data.to(\"cuda\")\n",
    "optimizer = torch.optim.SGD(model.parameters(), lr=lr, momentum=0.9)\n",
    "n_data, dim = data.shape\n",
    "\n",
    "# training loop\n",
    "for i in range(n_epochs):\n",
    "    batch_idx = torch.randint(low=0, high=n_data, size=(1,n_batch)).flatten()\n",
    "    batch = data[batch_idx,:]\n",
    "    optimizer.zero_grad()\n",
    "    output = model(batch)\n",
    "    loss = torch.mean((batch-output)**2)\n",
    "    if i%500==0:\n",
    "        print(i, loss)\n",
    "    loss.backward()\n",
    "    optimizer.step()\n",
    "    losslist[i] = loss\n",
    "\n",
    "#plot data\n",
    "model.eval()\n",
    "x_recon = model(data).detach().cpu()\n",
    "data_plot = data.cpu()\n",
    "plt.figure()\n",
    "plt.plot(data_plot[:,0], data_plot[:,1], \"b.\")\n",
    "plt.plot(x_recon[:,0], x_recon[:,1], \"r.\")\n",
    "plt.show()\n",
    "\n",
    "# plot training curve\n",
    "plt.figure()\n",
    "plt.plot(losslist.detach().numpy()[100:])\n",
    "plt.show()"
   ]
  },
  {
   "cell_type": "code",
   "execution_count": null,
   "id": "4ae3cd0d",
   "metadata": {},
   "outputs": [],
   "source": []
  }
 ],
 "metadata": {
  "interpreter": {
   "hash": "eae51ea1338c7cea7ea9b72a1615a3fcd26f64a59fcb71446f371f16decafc19"
  },
  "kernelspec": {
   "display_name": "Python 3 (ipykernel)",
   "language": "python",
   "name": "python3"
  },
  "language_info": {
   "codemirror_mode": {
    "name": "ipython",
    "version": 3
   },
   "file_extension": ".py",
   "mimetype": "text/x-python",
   "name": "python",
   "nbconvert_exporter": "python",
   "pygments_lexer": "ipython3",
   "version": "3.8.13"
  }
 },
 "nbformat": 4,
 "nbformat_minor": 5
}
